{
  "nbformat": 4,
  "nbformat_minor": 0,
  "metadata": {
    "colab": {
      "name": "logistic.ipynb",
      "provenance": [],
      "include_colab_link": true
    },
    "kernelspec": {
      "name": "python3",
      "display_name": "Python 3"
    }
  },
  "cells": [
    {
      "cell_type": "markdown",
      "metadata": {
        "id": "view-in-github",
        "colab_type": "text"
      },
      "source": [
        "<a href=\"https://colab.research.google.com/github/Kim-Ken/my_implement_algo/blob/master/logistic.ipynb\" target=\"_parent\"><img src=\"https://colab.research.google.com/assets/colab-badge.svg\" alt=\"Open In Colab\"/></a>"
      ]
    },
    {
      "cell_type": "code",
      "metadata": {
        "id": "f7beLeUfT_z4",
        "colab_type": "code",
        "outputId": "21440eed-0b0a-4067-caae-8754fb2e73c1",
        "colab": {
          "base_uri": "https://localhost:8080/",
          "height": 34
        }
      },
      "source": [
        "print(\"aaa\")"
      ],
      "execution_count": 223,
      "outputs": [
        {
          "output_type": "stream",
          "text": [
            "aaa\n"
          ],
          "name": "stdout"
        }
      ]
    },
    {
      "cell_type": "code",
      "metadata": {
        "id": "J2s_0yhIAupD",
        "colab_type": "code",
        "colab": {}
      },
      "source": [
        "import numpy as np\n",
        "class logisticRegress(object):\n",
        "  def __init__(self,classNum,featureNum,epoch=100,alpha=0.001):\n",
        "    self.W = np.random.random((classNum,featureNum+1))\n",
        "    self.class_label =[0,1,2]\n",
        "    self.epoch = epoch\n",
        "    self.alpha = alpha\n",
        "\n",
        "  def fit(self,X,y):\n",
        "    for t in range(self.epoch):\n",
        "      for j,w in enumerate(self.W):\n",
        "        #if t %100==99:\n",
        "        #  self.alpha*=0.5\n",
        "        dw = (self.alpha * self.gd(X,y,w,j))\n",
        "        #print(\"w\",j)\n",
        "        #print(dw)\n",
        "        self.W[j]= w - dw\n",
        "        \n",
        "      #print(self.W)\n",
        "      #if np.linalg.norm(dw,ord=1) < 0.001:\n",
        "       # break\n",
        "\n",
        "\n",
        "  def predict(self,x):\n",
        "    x_p = np.append(np.ones(1),x)\n",
        "    return self.softmax(x_p)\n",
        "  \n",
        "  def gd(self,X,y,w,j):\n",
        "    dw = 0\n",
        "    for i,x in enumerate(X):\n",
        "      if y[i] == self.class_label[j]:\n",
        "        #print(\"label:\",self.class_label[j],' :j',j,\" :y[i]\",y[i],\" :i\",i)\n",
        "        t=1.0\n",
        "      else:\n",
        "        t=0.0\n",
        "      #print(t)\n",
        "      x_p = np.append(np.ones(1),x)\n",
        "      #print(x_p)\n",
        "      dw+=(self.softmax(x_p)[j]-t)*x_p\n",
        "      #print(dw)\n",
        "    return dw\n",
        "\n",
        "  def softmax(self,x):\n",
        "    ListExp = []\n",
        "    for w in self.W:\n",
        "      ax=np.dot(w,x)\n",
        "      #print(ax)\n",
        "      ListExp.append(np.exp(ax))\n",
        "    exps = np.array(ListExp)\n",
        "    return exps/exps.sum()"
      ],
      "execution_count": 0,
      "outputs": []
    },
    {
      "cell_type": "code",
      "metadata": {
        "id": "XQ-WjkuyOVGN",
        "colab_type": "code",
        "colab": {}
      },
      "source": [
        "from sklearn.datasets import load_iris\n",
        "iris = load_iris()\n"
      ],
      "execution_count": 0,
      "outputs": []
    },
    {
      "cell_type": "code",
      "metadata": {
        "id": "iW9jZun2BoOd",
        "colab_type": "code",
        "outputId": "f901fdb4-ce48-4014-f23b-ac47cabb207e",
        "colab": {
          "base_uri": "https://localhost:8080/",
          "height": 137
        }
      },
      "source": [
        "iris.target"
      ],
      "execution_count": 226,
      "outputs": [
        {
          "output_type": "execute_result",
          "data": {
            "text/plain": [
              "array([0, 0, 0, 0, 0, 0, 0, 0, 0, 0, 0, 0, 0, 0, 0, 0, 0, 0, 0, 0, 0, 0,\n",
              "       0, 0, 0, 0, 0, 0, 0, 0, 0, 0, 0, 0, 0, 0, 0, 0, 0, 0, 0, 0, 0, 0,\n",
              "       0, 0, 0, 0, 0, 0, 1, 1, 1, 1, 1, 1, 1, 1, 1, 1, 1, 1, 1, 1, 1, 1,\n",
              "       1, 1, 1, 1, 1, 1, 1, 1, 1, 1, 1, 1, 1, 1, 1, 1, 1, 1, 1, 1, 1, 1,\n",
              "       1, 1, 1, 1, 1, 1, 1, 1, 1, 1, 1, 1, 2, 2, 2, 2, 2, 2, 2, 2, 2, 2,\n",
              "       2, 2, 2, 2, 2, 2, 2, 2, 2, 2, 2, 2, 2, 2, 2, 2, 2, 2, 2, 2, 2, 2,\n",
              "       2, 2, 2, 2, 2, 2, 2, 2, 2, 2, 2, 2, 2, 2, 2, 2, 2, 2])"
            ]
          },
          "metadata": {
            "tags": []
          },
          "execution_count": 226
        }
      ]
    },
    {
      "cell_type": "code",
      "metadata": {
        "id": "aQHoar3M-irN",
        "colab_type": "code",
        "colab": {}
      },
      "source": [
        "logs = logisticRegress(3,4)"
      ],
      "execution_count": 0,
      "outputs": []
    },
    {
      "cell_type": "code",
      "metadata": {
        "id": "8ZUjWum2-hA0",
        "colab_type": "code",
        "colab": {}
      },
      "source": [
        "logs.fit(iris.data,iris.target)"
      ],
      "execution_count": 0,
      "outputs": []
    },
    {
      "cell_type": "code",
      "metadata": {
        "id": "DxjVKQ2pAUZS",
        "colab_type": "code",
        "outputId": "e57cabcd-3ebf-478f-f0ec-ee1915511fb0",
        "colab": {
          "base_uri": "https://localhost:8080/",
          "height": 68
        }
      },
      "source": [
        "print(logs.W)"
      ],
      "execution_count": 229,
      "outputs": [
        {
          "output_type": "stream",
          "text": [
            "[[ 1.04770818  1.06385919  1.74497804 -1.11321609 -0.03947895]\n",
            " [ 0.24271201  1.07897484  0.4531051   0.55440832 -0.04050169]\n",
            " [ 0.30317332 -0.23558503  0.38572038  1.92662683  1.02802488]]\n"
          ],
          "name": "stdout"
        }
      ]
    },
    {
      "cell_type": "code",
      "metadata": {
        "id": "76cS-C9LBWNh",
        "colab_type": "code",
        "outputId": "abbf29cc-7904-410a-911d-b6d9f05ce52f",
        "colab": {
          "base_uri": "https://localhost:8080/",
          "height": 71
        }
      },
      "source": [
        "pred_list = []\n",
        "tf = []\n",
        "for i,d in enumerate(iris.data):\n",
        "  l=np.argmax(logs.predict(d))\n",
        "  if iris.target[i]==l:\n",
        "    tf.append(1)\n",
        "  else:\n",
        "    tf.append(0)\n",
        "  pred_list.append(l)\n",
        "\n",
        "\n",
        "print(pred_list)\n",
        "print(sum(tf)/len(tf))\n"
      ],
      "execution_count": 230,
      "outputs": [
        {
          "output_type": "stream",
          "text": [
            "[0, 0, 0, 0, 0, 0, 0, 0, 0, 0, 0, 0, 0, 0, 0, 0, 0, 0, 0, 0, 0, 0, 0, 0, 0, 0, 0, 0, 0, 0, 0, 0, 0, 0, 0, 0, 0, 0, 0, 0, 0, 0, 0, 0, 0, 0, 0, 0, 0, 0, 1, 1, 1, 1, 1, 1, 1, 1, 1, 1, 1, 1, 1, 1, 1, 1, 2, 1, 1, 1, 2, 1, 1, 1, 1, 1, 1, 1, 1, 1, 1, 1, 1, 2, 2, 1, 1, 1, 1, 1, 1, 1, 1, 1, 1, 1, 1, 1, 1, 1, 2, 2, 2, 2, 2, 2, 2, 2, 2, 2, 2, 2, 2, 2, 2, 2, 2, 2, 2, 2, 2, 2, 2, 2, 2, 2, 2, 2, 2, 2, 2, 2, 2, 2, 2, 2, 2, 2, 2, 2, 2, 2, 2, 2, 2, 2, 2, 2, 2, 2]\n",
            "0.9733333333333334\n"
          ],
          "name": "stdout"
        }
      ]
    },
    {
      "cell_type": "markdown",
      "metadata": {
        "id": "ho_7nvoYW5f4",
        "colab_type": "text"
      },
      "source": [
        ""
      ]
    },
    {
      "cell_type": "markdown",
      "metadata": {
        "id": "wWATaIIoW5ac",
        "colab_type": "text"
      },
      "source": [
        ""
      ]
    }
  ]
}